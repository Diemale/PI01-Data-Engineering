{
 "cells": [
  {
   "cell_type": "code",
   "execution_count": 1,
   "id": "e94d8c07",
   "metadata": {},
   "outputs": [],
   "source": [
    "import pandas as pd\n",
    "import numpy as np"
   ]
  },
  {
   "cell_type": "markdown",
   "id": "61a08a64",
   "metadata": {},
   "source": [
    "# ETL"
   ]
  },
  {
   "cell_type": "markdown",
   "id": "c3fc4a4a",
   "metadata": {},
   "source": [
    "En el siguiente trabajo de ETL cada sección incluye el trabajo de los cuatro dataFrames. Por este motivo, cada vez que hablemos de un procedimiento nos estaremos refiriendo a todos los data frames por igual. Si en el algún caso el proceso entre datasets difiere, lo indicaremos en la correspondiente sección."
   ]
  },
  {
   "cell_type": "markdown",
   "id": "72de6ff9",
   "metadata": {},
   "source": [
    "## Carga de datos"
   ]
  },
  {
   "cell_type": "code",
   "execution_count": 2,
   "id": "21783c01",
   "metadata": {},
   "outputs": [],
   "source": [
    "dfa = pd.read_csv('..\\\\Datasets\\\\amazon_prime_titles-score.csv')"
   ]
  },
  {
   "cell_type": "code",
   "execution_count": 3,
   "id": "9dd635ea",
   "metadata": {},
   "outputs": [],
   "source": [
    "#dfa.head()"
   ]
  },
  {
   "cell_type": "code",
   "execution_count": 4,
   "id": "8d7f21e2",
   "metadata": {},
   "outputs": [],
   "source": [
    "dfd = pd.read_csv('..\\\\Datasets\\\\disney_plus_titles-score.csv')"
   ]
  },
  {
   "cell_type": "code",
   "execution_count": 5,
   "id": "ec87ac6e",
   "metadata": {},
   "outputs": [],
   "source": [
    "#dfd.head()"
   ]
  },
  {
   "cell_type": "code",
   "execution_count": 6,
   "id": "e32bd4cc",
   "metadata": {},
   "outputs": [],
   "source": [
    "dfd = pd.read_csv('..\\\\Datasets\\\\disney_plus_titles-score.csv')"
   ]
  },
  {
   "cell_type": "code",
   "execution_count": 7,
   "id": "5da95950",
   "metadata": {},
   "outputs": [],
   "source": [
    "dfh = pd.read_csv('..\\\\Datasets\\\\hulu_titles-score (2).csv')"
   ]
  },
  {
   "cell_type": "code",
   "execution_count": 8,
   "id": "a7575846",
   "metadata": {},
   "outputs": [],
   "source": [
    "dfn = pd.read_csv('..\\\\Datasets\\\\netflix_titles-score.csv')"
   ]
  },
  {
   "cell_type": "markdown",
   "id": "3bb929c9",
   "metadata": {},
   "source": [
    "## Chequeo de valores nulos"
   ]
  },
  {
   "cell_type": "code",
   "execution_count": 9,
   "id": "6c42d6c0",
   "metadata": {},
   "outputs": [
    {
     "data": {
      "text/plain": [
       "True"
      ]
     },
     "execution_count": 9,
     "metadata": {},
     "output_type": "execute_result"
    }
   ],
   "source": [
    "dfa.isna().any().any()"
   ]
  },
  {
   "cell_type": "code",
   "execution_count": 10,
   "id": "68550006",
   "metadata": {},
   "outputs": [],
   "source": [
    "def get_nan_in_df(dataFrame):\n",
    "    # get a Pandas series with all null values in the data frame.\n",
    "    nanValues = dataFrame.isna().sum().sort_values(ascending=False)\n",
    "    nanValuesPrct = (nanValues/len(dataFrame) )*100\n",
    "    \n",
    "    return nanValuesPrct"
   ]
  },
  {
   "cell_type": "code",
   "execution_count": 11,
   "id": "9159921e",
   "metadata": {},
   "outputs": [],
   "source": [
    "#get_nan_in_df(dfa)"
   ]
  },
  {
   "cell_type": "code",
   "execution_count": 12,
   "id": "a195d478",
   "metadata": {},
   "outputs": [],
   "source": [
    "#get_nan_in_df(dfd)"
   ]
  },
  {
   "cell_type": "code",
   "execution_count": 13,
   "id": "f84b270b",
   "metadata": {},
   "outputs": [
    {
     "data": {
      "text/html": [
       "<div>\n",
       "<style scoped>\n",
       "    .dataframe tbody tr th:only-of-type {\n",
       "        vertical-align: middle;\n",
       "    }\n",
       "\n",
       "    .dataframe tbody tr th {\n",
       "        vertical-align: top;\n",
       "    }\n",
       "\n",
       "    .dataframe thead th {\n",
       "        text-align: right;\n",
       "    }\n",
       "</style>\n",
       "<table border=\"1\" class=\"dataframe\">\n",
       "  <thead>\n",
       "    <tr style=\"text-align: right;\">\n",
       "      <th></th>\n",
       "      <th>show_id</th>\n",
       "      <th>type</th>\n",
       "      <th>title</th>\n",
       "      <th>director</th>\n",
       "      <th>cast</th>\n",
       "      <th>country</th>\n",
       "      <th>date_added</th>\n",
       "      <th>release_year</th>\n",
       "      <th>rating</th>\n",
       "      <th>duration</th>\n",
       "      <th>listed_in</th>\n",
       "      <th>description</th>\n",
       "      <th>score</th>\n",
       "    </tr>\n",
       "  </thead>\n",
       "  <tbody>\n",
       "    <tr>\n",
       "      <th>0</th>\n",
       "      <td>s1</td>\n",
       "      <td>Movie</td>\n",
       "      <td>The Grand Seduction</td>\n",
       "      <td>Don McKellar</td>\n",
       "      <td>Brendan Gleeson, Taylor Kitsch, Gordon Pinsent</td>\n",
       "      <td>Canada</td>\n",
       "      <td>March 30, 2021</td>\n",
       "      <td>2014</td>\n",
       "      <td>NaN</td>\n",
       "      <td>113 min</td>\n",
       "      <td>Comedy, Drama</td>\n",
       "      <td>A small fishing village must procure a local d...</td>\n",
       "      <td>99</td>\n",
       "    </tr>\n",
       "    <tr>\n",
       "      <th>1</th>\n",
       "      <td>s2</td>\n",
       "      <td>Movie</td>\n",
       "      <td>Take Care Good Night</td>\n",
       "      <td>Girish Joshi</td>\n",
       "      <td>Mahesh Manjrekar, Abhay Mahajan, Sachin Khedekar</td>\n",
       "      <td>India</td>\n",
       "      <td>March 30, 2021</td>\n",
       "      <td>2018</td>\n",
       "      <td>13+</td>\n",
       "      <td>110 min</td>\n",
       "      <td>Drama, International</td>\n",
       "      <td>A Metro Family decides to fight a Cyber Crimin...</td>\n",
       "      <td>37</td>\n",
       "    </tr>\n",
       "    <tr>\n",
       "      <th>2</th>\n",
       "      <td>s3</td>\n",
       "      <td>Movie</td>\n",
       "      <td>Secrets of Deception</td>\n",
       "      <td>Josh Webber</td>\n",
       "      <td>Tom Sizemore, Lorenzo Lamas, Robert LaSardo, R...</td>\n",
       "      <td>United States</td>\n",
       "      <td>March 30, 2021</td>\n",
       "      <td>2017</td>\n",
       "      <td>NaN</td>\n",
       "      <td>74 min</td>\n",
       "      <td>Action, Drama, Suspense</td>\n",
       "      <td>After a man discovers his wife is cheating on ...</td>\n",
       "      <td>20</td>\n",
       "    </tr>\n",
       "    <tr>\n",
       "      <th>3</th>\n",
       "      <td>s4</td>\n",
       "      <td>Movie</td>\n",
       "      <td>Pink: Staying True</td>\n",
       "      <td>Sonia Anderson</td>\n",
       "      <td>Interviews with: Pink, Adele, Beyoncé, Britney...</td>\n",
       "      <td>United States</td>\n",
       "      <td>March 30, 2021</td>\n",
       "      <td>2014</td>\n",
       "      <td>NaN</td>\n",
       "      <td>69 min</td>\n",
       "      <td>Documentary</td>\n",
       "      <td>Pink breaks the mold once again, bringing her ...</td>\n",
       "      <td>27</td>\n",
       "    </tr>\n",
       "    <tr>\n",
       "      <th>4</th>\n",
       "      <td>s5</td>\n",
       "      <td>Movie</td>\n",
       "      <td>Monster Maker</td>\n",
       "      <td>Giles Foster</td>\n",
       "      <td>Harry Dean Stanton, Kieran O'Brien, George Cos...</td>\n",
       "      <td>United Kingdom</td>\n",
       "      <td>March 30, 2021</td>\n",
       "      <td>1989</td>\n",
       "      <td>NaN</td>\n",
       "      <td>45 min</td>\n",
       "      <td>Drama, Fantasy</td>\n",
       "      <td>Teenage Matt Banting wants to work with a famo...</td>\n",
       "      <td>75</td>\n",
       "    </tr>\n",
       "  </tbody>\n",
       "</table>\n",
       "</div>"
      ],
      "text/plain": [
       "  show_id   type                 title        director  \\\n",
       "0      s1  Movie   The Grand Seduction    Don McKellar   \n",
       "1      s2  Movie  Take Care Good Night    Girish Joshi   \n",
       "2      s3  Movie  Secrets of Deception     Josh Webber   \n",
       "3      s4  Movie    Pink: Staying True  Sonia Anderson   \n",
       "4      s5  Movie         Monster Maker    Giles Foster   \n",
       "\n",
       "                                                cast         country  \\\n",
       "0     Brendan Gleeson, Taylor Kitsch, Gordon Pinsent          Canada   \n",
       "1   Mahesh Manjrekar, Abhay Mahajan, Sachin Khedekar           India   \n",
       "2  Tom Sizemore, Lorenzo Lamas, Robert LaSardo, R...   United States   \n",
       "3  Interviews with: Pink, Adele, Beyoncé, Britney...   United States   \n",
       "4  Harry Dean Stanton, Kieran O'Brien, George Cos...  United Kingdom   \n",
       "\n",
       "       date_added  release_year rating duration                listed_in  \\\n",
       "0  March 30, 2021          2014    NaN  113 min            Comedy, Drama   \n",
       "1  March 30, 2021          2018    13+  110 min     Drama, International   \n",
       "2  March 30, 2021          2017    NaN   74 min  Action, Drama, Suspense   \n",
       "3  March 30, 2021          2014    NaN   69 min              Documentary   \n",
       "4  March 30, 2021          1989    NaN   45 min           Drama, Fantasy   \n",
       "\n",
       "                                         description  score  \n",
       "0  A small fishing village must procure a local d...     99  \n",
       "1  A Metro Family decides to fight a Cyber Crimin...     37  \n",
       "2  After a man discovers his wife is cheating on ...     20  \n",
       "3  Pink breaks the mold once again, bringing her ...     27  \n",
       "4  Teenage Matt Banting wants to work with a famo...     75  "
      ]
     },
     "execution_count": 13,
     "metadata": {},
     "output_type": "execute_result"
    }
   ],
   "source": [
    "dfa.head()"
   ]
  },
  {
   "cell_type": "markdown",
   "id": "4714249b",
   "metadata": {},
   "source": [
    "### Generar campo id"
   ]
  },
  {
   "cell_type": "markdown",
   "id": "7488975f",
   "metadata": {},
   "source": [
    "- Cada id se compondrá de la primera letra del nombre de la plataforma, seguido del show_id ya presente en los datasets (ejemplo para títulos de Amazon = as123)"
   ]
  },
  {
   "cell_type": "code",
   "execution_count": 14,
   "id": "de21780e",
   "metadata": {},
   "outputs": [],
   "source": [
    "#dfa.tail()"
   ]
  },
  {
   "cell_type": "markdown",
   "id": "631a17d8",
   "metadata": {},
   "source": [
    "**Insertamos una nueva columna en la primera posición del DataFrame, con nombre 'id' y usamos una función anónima para darle el valor a cada celda.** "
   ]
  },
  {
   "cell_type": "code",
   "execution_count": 15,
   "id": "0e9a2f55",
   "metadata": {},
   "outputs": [],
   "source": [
    "dfa.insert(0,'id', dfa.show_id.apply(lambda x: f'a{x}'))"
   ]
  },
  {
   "cell_type": "code",
   "execution_count": 16,
   "id": "77d63105",
   "metadata": {},
   "outputs": [],
   "source": [
    "dfd.insert(0,'id', dfd.show_id.apply(lambda x: f'd{x}'))"
   ]
  },
  {
   "cell_type": "code",
   "execution_count": 17,
   "id": "5eb05ccd",
   "metadata": {},
   "outputs": [],
   "source": [
    "dfh.insert(0,'id', dfh.show_id.apply(lambda x: f'h{x}'))"
   ]
  },
  {
   "cell_type": "code",
   "execution_count": 18,
   "id": "63e0e2c5",
   "metadata": {},
   "outputs": [],
   "source": [
    "dfn.insert(0,'id', dfn.show_id.apply(lambda x: f'n{x}'))"
   ]
  },
  {
   "cell_type": "code",
   "execution_count": 19,
   "id": "75182121",
   "metadata": {},
   "outputs": [],
   "source": [
    "#dfa.head()"
   ]
  },
  {
   "cell_type": "markdown",
   "id": "42d18f54",
   "metadata": {},
   "source": [
    "### Reemplazar valores nulos en el campo rating por el char \"G\""
   ]
  },
  {
   "cell_type": "code",
   "execution_count": 20,
   "id": "9a093ad6",
   "metadata": {},
   "outputs": [],
   "source": [
    "#dfa.rating.value_counts()"
   ]
  },
  {
   "cell_type": "markdown",
   "id": "06f5a44c",
   "metadata": {},
   "source": [
    "**El procedimiento es trivial, simplemente procedimos a tratar los nan con el método fillna de pandas**"
   ]
  },
  {
   "cell_type": "code",
   "execution_count": 21,
   "id": "7e32cf63",
   "metadata": {},
   "outputs": [],
   "source": [
    "dfa.rating = dfa.rating.fillna('G')\n",
    "dfd.rating = dfd.rating.fillna('G')\n",
    "dfh.rating = dfh.rating.fillna('G')\n",
    "dfn.rating = dfn.rating.fillna('G')"
   ]
  },
  {
   "cell_type": "code",
   "execution_count": 22,
   "id": "51e24083",
   "metadata": {},
   "outputs": [
    {
     "data": {
      "text/html": [
       "<div>\n",
       "<style scoped>\n",
       "    .dataframe tbody tr th:only-of-type {\n",
       "        vertical-align: middle;\n",
       "    }\n",
       "\n",
       "    .dataframe tbody tr th {\n",
       "        vertical-align: top;\n",
       "    }\n",
       "\n",
       "    .dataframe thead th {\n",
       "        text-align: right;\n",
       "    }\n",
       "</style>\n",
       "<table border=\"1\" class=\"dataframe\">\n",
       "  <thead>\n",
       "    <tr style=\"text-align: right;\">\n",
       "      <th></th>\n",
       "      <th>id</th>\n",
       "      <th>show_id</th>\n",
       "      <th>type</th>\n",
       "      <th>title</th>\n",
       "      <th>director</th>\n",
       "      <th>cast</th>\n",
       "      <th>country</th>\n",
       "      <th>date_added</th>\n",
       "      <th>release_year</th>\n",
       "      <th>rating</th>\n",
       "      <th>duration</th>\n",
       "      <th>listed_in</th>\n",
       "      <th>description</th>\n",
       "      <th>score</th>\n",
       "    </tr>\n",
       "  </thead>\n",
       "  <tbody>\n",
       "    <tr>\n",
       "      <th>0</th>\n",
       "      <td>ns1</td>\n",
       "      <td>s1</td>\n",
       "      <td>Movie</td>\n",
       "      <td>Dick Johnson Is Dead</td>\n",
       "      <td>Kirsten Johnson</td>\n",
       "      <td>NaN</td>\n",
       "      <td>United States</td>\n",
       "      <td>September 25, 2021</td>\n",
       "      <td>2020</td>\n",
       "      <td>PG-13</td>\n",
       "      <td>90 min</td>\n",
       "      <td>Documentaries</td>\n",
       "      <td>As her father nears the end of his life, filmm...</td>\n",
       "      <td>29</td>\n",
       "    </tr>\n",
       "    <tr>\n",
       "      <th>1</th>\n",
       "      <td>ns2</td>\n",
       "      <td>s2</td>\n",
       "      <td>TV Show</td>\n",
       "      <td>Blood &amp; Water</td>\n",
       "      <td>NaN</td>\n",
       "      <td>Ama Qamata, Khosi Ngema, Gail Mabalane, Thaban...</td>\n",
       "      <td>South Africa</td>\n",
       "      <td>September 24, 2021</td>\n",
       "      <td>2021</td>\n",
       "      <td>TV-MA</td>\n",
       "      <td>2 Seasons</td>\n",
       "      <td>International TV Shows, TV Dramas, TV Mysteries</td>\n",
       "      <td>After crossing paths at a party, a Cape Town t...</td>\n",
       "      <td>86</td>\n",
       "    </tr>\n",
       "    <tr>\n",
       "      <th>2</th>\n",
       "      <td>ns3</td>\n",
       "      <td>s3</td>\n",
       "      <td>TV Show</td>\n",
       "      <td>Ganglands</td>\n",
       "      <td>Julien Leclercq</td>\n",
       "      <td>Sami Bouajila, Tracy Gotoas, Samuel Jouy, Nabi...</td>\n",
       "      <td>NaN</td>\n",
       "      <td>September 24, 2021</td>\n",
       "      <td>2021</td>\n",
       "      <td>TV-MA</td>\n",
       "      <td>1 Season</td>\n",
       "      <td>Crime TV Shows, International TV Shows, TV Act...</td>\n",
       "      <td>To protect his family from a powerful drug lor...</td>\n",
       "      <td>75</td>\n",
       "    </tr>\n",
       "    <tr>\n",
       "      <th>3</th>\n",
       "      <td>ns4</td>\n",
       "      <td>s4</td>\n",
       "      <td>TV Show</td>\n",
       "      <td>Jailbirds New Orleans</td>\n",
       "      <td>NaN</td>\n",
       "      <td>NaN</td>\n",
       "      <td>NaN</td>\n",
       "      <td>September 24, 2021</td>\n",
       "      <td>2021</td>\n",
       "      <td>TV-MA</td>\n",
       "      <td>1 Season</td>\n",
       "      <td>Docuseries, Reality TV</td>\n",
       "      <td>Feuds, flirtations and toilet talk go down amo...</td>\n",
       "      <td>49</td>\n",
       "    </tr>\n",
       "    <tr>\n",
       "      <th>4</th>\n",
       "      <td>ns5</td>\n",
       "      <td>s5</td>\n",
       "      <td>TV Show</td>\n",
       "      <td>Kota Factory</td>\n",
       "      <td>NaN</td>\n",
       "      <td>Mayur More, Jitendra Kumar, Ranjan Raj, Alam K...</td>\n",
       "      <td>India</td>\n",
       "      <td>September 24, 2021</td>\n",
       "      <td>2021</td>\n",
       "      <td>TV-MA</td>\n",
       "      <td>2 Seasons</td>\n",
       "      <td>International TV Shows, Romantic TV Shows, TV ...</td>\n",
       "      <td>In a city of coaching centers known to train I...</td>\n",
       "      <td>92</td>\n",
       "    </tr>\n",
       "  </tbody>\n",
       "</table>\n",
       "</div>"
      ],
      "text/plain": [
       "    id show_id     type                  title         director  \\\n",
       "0  ns1      s1    Movie   Dick Johnson Is Dead  Kirsten Johnson   \n",
       "1  ns2      s2  TV Show          Blood & Water              NaN   \n",
       "2  ns3      s3  TV Show              Ganglands  Julien Leclercq   \n",
       "3  ns4      s4  TV Show  Jailbirds New Orleans              NaN   \n",
       "4  ns5      s5  TV Show           Kota Factory              NaN   \n",
       "\n",
       "                                                cast        country  \\\n",
       "0                                                NaN  United States   \n",
       "1  Ama Qamata, Khosi Ngema, Gail Mabalane, Thaban...   South Africa   \n",
       "2  Sami Bouajila, Tracy Gotoas, Samuel Jouy, Nabi...            NaN   \n",
       "3                                                NaN            NaN   \n",
       "4  Mayur More, Jitendra Kumar, Ranjan Raj, Alam K...          India   \n",
       "\n",
       "           date_added  release_year rating   duration  \\\n",
       "0  September 25, 2021          2020  PG-13     90 min   \n",
       "1  September 24, 2021          2021  TV-MA  2 Seasons   \n",
       "2  September 24, 2021          2021  TV-MA   1 Season   \n",
       "3  September 24, 2021          2021  TV-MA   1 Season   \n",
       "4  September 24, 2021          2021  TV-MA  2 Seasons   \n",
       "\n",
       "                                           listed_in  \\\n",
       "0                                      Documentaries   \n",
       "1    International TV Shows, TV Dramas, TV Mysteries   \n",
       "2  Crime TV Shows, International TV Shows, TV Act...   \n",
       "3                             Docuseries, Reality TV   \n",
       "4  International TV Shows, Romantic TV Shows, TV ...   \n",
       "\n",
       "                                         description  score  \n",
       "0  As her father nears the end of his life, filmm...     29  \n",
       "1  After crossing paths at a party, a Cape Town t...     86  \n",
       "2  To protect his family from a powerful drug lor...     75  \n",
       "3  Feuds, flirtations and toilet talk go down amo...     49  \n",
       "4  In a city of coaching centers known to train I...     92  "
      ]
     },
     "execution_count": 22,
     "metadata": {},
     "output_type": "execute_result"
    }
   ],
   "source": [
    "dfn.head()"
   ]
  },
  {
   "cell_type": "markdown",
   "id": "45c0c306",
   "metadata": {},
   "source": [
    "### Formatear fechas\n",
    "\n",
    "**Las fechas deberán tener el formato `AAAA-mm-dd`**"
   ]
  },
  {
   "cell_type": "code",
   "execution_count": 23,
   "id": "1c0a2fdf",
   "metadata": {},
   "outputs": [
    {
     "name": "stdout",
     "output_type": "stream",
     "text": [
      "<class 'pandas.core.frame.DataFrame'>\n",
      "RangeIndex: 9668 entries, 0 to 9667\n",
      "Data columns (total 14 columns):\n",
      " #   Column        Non-Null Count  Dtype \n",
      "---  ------        --------------  ----- \n",
      " 0   id            9668 non-null   object\n",
      " 1   show_id       9668 non-null   object\n",
      " 2   type          9668 non-null   object\n",
      " 3   title         9668 non-null   object\n",
      " 4   director      7586 non-null   object\n",
      " 5   cast          8435 non-null   object\n",
      " 6   country       672 non-null    object\n",
      " 7   date_added    155 non-null    object\n",
      " 8   release_year  9668 non-null   int64 \n",
      " 9   rating        9668 non-null   object\n",
      " 10  duration      9668 non-null   object\n",
      " 11  listed_in     9668 non-null   object\n",
      " 12  description   9668 non-null   object\n",
      " 13  score         9668 non-null   int64 \n",
      "dtypes: int64(2), object(12)\n",
      "memory usage: 1.0+ MB\n"
     ]
    }
   ],
   "source": [
    "dfa.info()"
   ]
  },
  {
   "cell_type": "code",
   "execution_count": 24,
   "id": "e047f9f9",
   "metadata": {},
   "outputs": [],
   "source": [
    "# dfa.date_added.apply(lambda x: type(x) == str)\n",
    "# dfd.date_added.apply(lambda x: type(x) == str)\n",
    "# dfh.date_added.apply(lambda x: type(x) == str)\n",
    "# dfn.date_added.apply(lambda x: type(x) == str)"
   ]
  },
  {
   "cell_type": "code",
   "execution_count": 25,
   "id": "1842a393",
   "metadata": {},
   "outputs": [],
   "source": [
    "# dfh.date_added.apply(lambda x: type(x) == str)\n",
    "# dfn.date_added.apply(lambda x: type(x) == str)"
   ]
  },
  {
   "cell_type": "code",
   "execution_count": 26,
   "id": "b7668ee5",
   "metadata": {},
   "outputs": [],
   "source": [
    "dfa.date_added = pd.to_datetime(dfa.date_added)\n",
    "dfd.date_added = pd.to_datetime(dfd.date_added)\n",
    "dfh.date_added = pd.to_datetime(dfh.date_added)\n",
    "dfn.date_added = pd.to_datetime(dfn.date_added)"
   ]
  },
  {
   "cell_type": "code",
   "execution_count": 27,
   "id": "cd99aea0",
   "metadata": {},
   "outputs": [
    {
     "data": {
      "text/html": [
       "<div>\n",
       "<style scoped>\n",
       "    .dataframe tbody tr th:only-of-type {\n",
       "        vertical-align: middle;\n",
       "    }\n",
       "\n",
       "    .dataframe tbody tr th {\n",
       "        vertical-align: top;\n",
       "    }\n",
       "\n",
       "    .dataframe thead th {\n",
       "        text-align: right;\n",
       "    }\n",
       "</style>\n",
       "<table border=\"1\" class=\"dataframe\">\n",
       "  <thead>\n",
       "    <tr style=\"text-align: right;\">\n",
       "      <th></th>\n",
       "      <th>id</th>\n",
       "      <th>show_id</th>\n",
       "      <th>type</th>\n",
       "      <th>title</th>\n",
       "      <th>director</th>\n",
       "      <th>cast</th>\n",
       "      <th>country</th>\n",
       "      <th>date_added</th>\n",
       "      <th>release_year</th>\n",
       "      <th>rating</th>\n",
       "      <th>duration</th>\n",
       "      <th>listed_in</th>\n",
       "      <th>description</th>\n",
       "      <th>score</th>\n",
       "    </tr>\n",
       "  </thead>\n",
       "  <tbody>\n",
       "    <tr>\n",
       "      <th>0</th>\n",
       "      <td>ns1</td>\n",
       "      <td>s1</td>\n",
       "      <td>Movie</td>\n",
       "      <td>Dick Johnson Is Dead</td>\n",
       "      <td>Kirsten Johnson</td>\n",
       "      <td>NaN</td>\n",
       "      <td>United States</td>\n",
       "      <td>2021-09-25</td>\n",
       "      <td>2020</td>\n",
       "      <td>PG-13</td>\n",
       "      <td>90 min</td>\n",
       "      <td>Documentaries</td>\n",
       "      <td>As her father nears the end of his life, filmm...</td>\n",
       "      <td>29</td>\n",
       "    </tr>\n",
       "    <tr>\n",
       "      <th>1</th>\n",
       "      <td>ns2</td>\n",
       "      <td>s2</td>\n",
       "      <td>TV Show</td>\n",
       "      <td>Blood &amp; Water</td>\n",
       "      <td>NaN</td>\n",
       "      <td>Ama Qamata, Khosi Ngema, Gail Mabalane, Thaban...</td>\n",
       "      <td>South Africa</td>\n",
       "      <td>2021-09-24</td>\n",
       "      <td>2021</td>\n",
       "      <td>TV-MA</td>\n",
       "      <td>2 Seasons</td>\n",
       "      <td>International TV Shows, TV Dramas, TV Mysteries</td>\n",
       "      <td>After crossing paths at a party, a Cape Town t...</td>\n",
       "      <td>86</td>\n",
       "    </tr>\n",
       "    <tr>\n",
       "      <th>2</th>\n",
       "      <td>ns3</td>\n",
       "      <td>s3</td>\n",
       "      <td>TV Show</td>\n",
       "      <td>Ganglands</td>\n",
       "      <td>Julien Leclercq</td>\n",
       "      <td>Sami Bouajila, Tracy Gotoas, Samuel Jouy, Nabi...</td>\n",
       "      <td>NaN</td>\n",
       "      <td>2021-09-24</td>\n",
       "      <td>2021</td>\n",
       "      <td>TV-MA</td>\n",
       "      <td>1 Season</td>\n",
       "      <td>Crime TV Shows, International TV Shows, TV Act...</td>\n",
       "      <td>To protect his family from a powerful drug lor...</td>\n",
       "      <td>75</td>\n",
       "    </tr>\n",
       "    <tr>\n",
       "      <th>3</th>\n",
       "      <td>ns4</td>\n",
       "      <td>s4</td>\n",
       "      <td>TV Show</td>\n",
       "      <td>Jailbirds New Orleans</td>\n",
       "      <td>NaN</td>\n",
       "      <td>NaN</td>\n",
       "      <td>NaN</td>\n",
       "      <td>2021-09-24</td>\n",
       "      <td>2021</td>\n",
       "      <td>TV-MA</td>\n",
       "      <td>1 Season</td>\n",
       "      <td>Docuseries, Reality TV</td>\n",
       "      <td>Feuds, flirtations and toilet talk go down amo...</td>\n",
       "      <td>49</td>\n",
       "    </tr>\n",
       "    <tr>\n",
       "      <th>4</th>\n",
       "      <td>ns5</td>\n",
       "      <td>s5</td>\n",
       "      <td>TV Show</td>\n",
       "      <td>Kota Factory</td>\n",
       "      <td>NaN</td>\n",
       "      <td>Mayur More, Jitendra Kumar, Ranjan Raj, Alam K...</td>\n",
       "      <td>India</td>\n",
       "      <td>2021-09-24</td>\n",
       "      <td>2021</td>\n",
       "      <td>TV-MA</td>\n",
       "      <td>2 Seasons</td>\n",
       "      <td>International TV Shows, Romantic TV Shows, TV ...</td>\n",
       "      <td>In a city of coaching centers known to train I...</td>\n",
       "      <td>92</td>\n",
       "    </tr>\n",
       "  </tbody>\n",
       "</table>\n",
       "</div>"
      ],
      "text/plain": [
       "    id show_id     type                  title         director  \\\n",
       "0  ns1      s1    Movie   Dick Johnson Is Dead  Kirsten Johnson   \n",
       "1  ns2      s2  TV Show          Blood & Water              NaN   \n",
       "2  ns3      s3  TV Show              Ganglands  Julien Leclercq   \n",
       "3  ns4      s4  TV Show  Jailbirds New Orleans              NaN   \n",
       "4  ns5      s5  TV Show           Kota Factory              NaN   \n",
       "\n",
       "                                                cast        country  \\\n",
       "0                                                NaN  United States   \n",
       "1  Ama Qamata, Khosi Ngema, Gail Mabalane, Thaban...   South Africa   \n",
       "2  Sami Bouajila, Tracy Gotoas, Samuel Jouy, Nabi...            NaN   \n",
       "3                                                NaN            NaN   \n",
       "4  Mayur More, Jitendra Kumar, Ranjan Raj, Alam K...          India   \n",
       "\n",
       "  date_added  release_year rating   duration  \\\n",
       "0 2021-09-25          2020  PG-13     90 min   \n",
       "1 2021-09-24          2021  TV-MA  2 Seasons   \n",
       "2 2021-09-24          2021  TV-MA   1 Season   \n",
       "3 2021-09-24          2021  TV-MA   1 Season   \n",
       "4 2021-09-24          2021  TV-MA  2 Seasons   \n",
       "\n",
       "                                           listed_in  \\\n",
       "0                                      Documentaries   \n",
       "1    International TV Shows, TV Dramas, TV Mysteries   \n",
       "2  Crime TV Shows, International TV Shows, TV Act...   \n",
       "3                             Docuseries, Reality TV   \n",
       "4  International TV Shows, Romantic TV Shows, TV ...   \n",
       "\n",
       "                                         description  score  \n",
       "0  As her father nears the end of his life, filmm...     29  \n",
       "1  After crossing paths at a party, a Cape Town t...     86  \n",
       "2  To protect his family from a powerful drug lor...     75  \n",
       "3  Feuds, flirtations and toilet talk go down amo...     49  \n",
       "4  In a city of coaching centers known to train I...     92  "
      ]
     },
     "execution_count": 27,
     "metadata": {},
     "output_type": "execute_result"
    }
   ],
   "source": [
    "dfn.head()"
   ]
  },
  {
   "cell_type": "markdown",
   "id": "f44d0a5f",
   "metadata": {},
   "source": [
    "## Normalizar los campos de texto\n",
    "\n",
    "- todos los campos de texto deberán estar en minúsculas, sin excepción."
   ]
  },
  {
   "cell_type": "code",
   "execution_count": 28,
   "id": "419cea90",
   "metadata": {},
   "outputs": [
    {
     "data": {
      "text/plain": [
       "id                      object\n",
       "show_id                 object\n",
       "type                    object\n",
       "title                   object\n",
       "director                object\n",
       "cast                    object\n",
       "country                 object\n",
       "date_added      datetime64[ns]\n",
       "release_year             int64\n",
       "rating                  object\n",
       "duration                object\n",
       "listed_in               object\n",
       "description             object\n",
       "score                    int64\n",
       "dtype: object"
      ]
     },
     "execution_count": 28,
     "metadata": {},
     "output_type": "execute_result"
    }
   ],
   "source": [
    "dfa.dtypes"
   ]
  },
  {
   "cell_type": "markdown",
   "id": "84472201",
   "metadata": {},
   "source": [
    "Para llevar adelante este paso, nos servimos de la función `all_columns_to_lower_case()` que recibe un data frame. Esta función itera sobre todas las columnas con tipo de dato string. Además, lleva el texto de cada celda a minúsculas, utilizando a la función auxiliar `to_lower_case()`. Finalmente retorna el data frame procesado.\n",
    "\n",
    "Por su parte `to_lower_case()` discrimina según el tipo de dato recibido como parámetro (proveniente de cada celda seleccionada), ya que varios de los datos en las columnas de texto son nan. Si el dato es de tipo string, lo normaliza y retorna el dato procesado; de lo contrario, devuelve el dato ingresado como parámetro(nan)."
   ]
  },
  {
   "cell_type": "code",
   "execution_count": 29,
   "id": "f601d1b2",
   "metadata": {},
   "outputs": [],
   "source": [
    "def all_columns_to_lower_case(DataFrame):\n",
    "    for columna in DataFrame.select_dtypes('object').columns:\n",
    "        DataFrame[columna] = DataFrame[columna].apply(lambda x: to_lower_case(x))\n",
    "    return DataFrame"
   ]
  },
  {
   "cell_type": "code",
   "execution_count": 30,
   "id": "9ba9deb2",
   "metadata": {},
   "outputs": [],
   "source": [
    "def to_lower_case(cellValue):\n",
    "    if type(cellValue) == str:\n",
    "        value = cellValue.lower()\n",
    "        return value\n",
    "    else:\n",
    "        return cellValue"
   ]
  },
  {
   "cell_type": "code",
   "execution_count": 31,
   "id": "abfc515a",
   "metadata": {},
   "outputs": [],
   "source": [
    "dfa = all_columns_to_lower_case(dfa)\n",
    "dfd = all_columns_to_lower_case(dfd)\n",
    "dfh = all_columns_to_lower_case(dfh)\n",
    "dfn = all_columns_to_lower_case(dfn)"
   ]
  },
  {
   "cell_type": "code",
   "execution_count": 32,
   "id": "6d1d6c49",
   "metadata": {},
   "outputs": [],
   "source": [
    "#dfn"
   ]
  },
  {
   "cell_type": "code",
   "execution_count": null,
   "id": "77aacfab",
   "metadata": {},
   "outputs": [],
   "source": []
  },
  {
   "cell_type": "markdown",
   "id": "e6929062",
   "metadata": {},
   "source": [
    "### Separar los datos de la columna 'duration'"
   ]
  },
  {
   "cell_type": "markdown",
   "id": "e5b275d5",
   "metadata": {},
   "source": [
    "- Separar en dos campos: duration_int y duration_type. El primero será un integer, el segundo un string que indique la unidad de medición de duración: min (minutos) o season (temporadas)\n",
    "\n"
   ]
  },
  {
   "cell_type": "markdown",
   "id": "211a67f1",
   "metadata": {},
   "source": [
    "En primer lugar, utilizamos el método `insert()` de Pandas para crear los nuevos campos, decidimos ubicarlos justo a la derecha de la columna original y le pasamos los datos de esta a cada celda de las nuevas columnas."
   ]
  },
  {
   "cell_type": "code",
   "execution_count": 33,
   "id": "9d125273",
   "metadata": {},
   "outputs": [],
   "source": [
    "dfa.insert(loc = 11, column = 'duration_int', value = dfa.duration)\n",
    "dfa.insert(loc = 12, column = 'duration_type', value = dfa.duration)"
   ]
  },
  {
   "cell_type": "code",
   "execution_count": 34,
   "id": "19d8f054",
   "metadata": {},
   "outputs": [],
   "source": [
    "dfd.insert(loc = 11, column = 'duration_int', value = dfd.duration)\n",
    "dfd.insert(loc = 12, column = 'duration_type', value = dfd.duration)"
   ]
  },
  {
   "cell_type": "code",
   "execution_count": 35,
   "id": "7d392ff3",
   "metadata": {},
   "outputs": [],
   "source": [
    "dfh.insert(loc = 11, column = 'duration_int', value = dfh.duration)\n",
    "dfh.insert(loc = 12, column = 'duration_type', value = dfh.duration)"
   ]
  },
  {
   "cell_type": "code",
   "execution_count": 36,
   "id": "63c822f3",
   "metadata": {},
   "outputs": [],
   "source": [
    "dfn.insert(loc = 11, column = 'duration_int', value = dfn.duration)\n",
    "dfn.insert(loc = 12, column = 'duration_type', value = dfn.duration)"
   ]
  },
  {
   "cell_type": "code",
   "execution_count": 37,
   "id": "92a9f381",
   "metadata": {},
   "outputs": [
    {
     "data": {
      "text/html": [
       "<div>\n",
       "<style scoped>\n",
       "    .dataframe tbody tr th:only-of-type {\n",
       "        vertical-align: middle;\n",
       "    }\n",
       "\n",
       "    .dataframe tbody tr th {\n",
       "        vertical-align: top;\n",
       "    }\n",
       "\n",
       "    .dataframe thead th {\n",
       "        text-align: right;\n",
       "    }\n",
       "</style>\n",
       "<table border=\"1\" class=\"dataframe\">\n",
       "  <thead>\n",
       "    <tr style=\"text-align: right;\">\n",
       "      <th></th>\n",
       "      <th>id</th>\n",
       "      <th>show_id</th>\n",
       "      <th>type</th>\n",
       "      <th>title</th>\n",
       "      <th>director</th>\n",
       "      <th>cast</th>\n",
       "      <th>country</th>\n",
       "      <th>date_added</th>\n",
       "      <th>release_year</th>\n",
       "      <th>rating</th>\n",
       "      <th>duration</th>\n",
       "      <th>duration_int</th>\n",
       "      <th>duration_type</th>\n",
       "      <th>listed_in</th>\n",
       "      <th>description</th>\n",
       "      <th>score</th>\n",
       "    </tr>\n",
       "  </thead>\n",
       "  <tbody>\n",
       "    <tr>\n",
       "      <th>0</th>\n",
       "      <td>as1</td>\n",
       "      <td>s1</td>\n",
       "      <td>movie</td>\n",
       "      <td>the grand seduction</td>\n",
       "      <td>don mckellar</td>\n",
       "      <td>brendan gleeson, taylor kitsch, gordon pinsent</td>\n",
       "      <td>canada</td>\n",
       "      <td>2021-03-30</td>\n",
       "      <td>2014</td>\n",
       "      <td>g</td>\n",
       "      <td>113 min</td>\n",
       "      <td>113 min</td>\n",
       "      <td>113 min</td>\n",
       "      <td>comedy, drama</td>\n",
       "      <td>a small fishing village must procure a local d...</td>\n",
       "      <td>99</td>\n",
       "    </tr>\n",
       "    <tr>\n",
       "      <th>1</th>\n",
       "      <td>as2</td>\n",
       "      <td>s2</td>\n",
       "      <td>movie</td>\n",
       "      <td>take care good night</td>\n",
       "      <td>girish joshi</td>\n",
       "      <td>mahesh manjrekar, abhay mahajan, sachin khedekar</td>\n",
       "      <td>india</td>\n",
       "      <td>2021-03-30</td>\n",
       "      <td>2018</td>\n",
       "      <td>13+</td>\n",
       "      <td>110 min</td>\n",
       "      <td>110 min</td>\n",
       "      <td>110 min</td>\n",
       "      <td>drama, international</td>\n",
       "      <td>a metro family decides to fight a cyber crimin...</td>\n",
       "      <td>37</td>\n",
       "    </tr>\n",
       "    <tr>\n",
       "      <th>2</th>\n",
       "      <td>as3</td>\n",
       "      <td>s3</td>\n",
       "      <td>movie</td>\n",
       "      <td>secrets of deception</td>\n",
       "      <td>josh webber</td>\n",
       "      <td>tom sizemore, lorenzo lamas, robert lasardo, r...</td>\n",
       "      <td>united states</td>\n",
       "      <td>2021-03-30</td>\n",
       "      <td>2017</td>\n",
       "      <td>g</td>\n",
       "      <td>74 min</td>\n",
       "      <td>74 min</td>\n",
       "      <td>74 min</td>\n",
       "      <td>action, drama, suspense</td>\n",
       "      <td>after a man discovers his wife is cheating on ...</td>\n",
       "      <td>20</td>\n",
       "    </tr>\n",
       "    <tr>\n",
       "      <th>3</th>\n",
       "      <td>as4</td>\n",
       "      <td>s4</td>\n",
       "      <td>movie</td>\n",
       "      <td>pink: staying true</td>\n",
       "      <td>sonia anderson</td>\n",
       "      <td>interviews with: pink, adele, beyoncé, britney...</td>\n",
       "      <td>united states</td>\n",
       "      <td>2021-03-30</td>\n",
       "      <td>2014</td>\n",
       "      <td>g</td>\n",
       "      <td>69 min</td>\n",
       "      <td>69 min</td>\n",
       "      <td>69 min</td>\n",
       "      <td>documentary</td>\n",
       "      <td>pink breaks the mold once again, bringing her ...</td>\n",
       "      <td>27</td>\n",
       "    </tr>\n",
       "    <tr>\n",
       "      <th>4</th>\n",
       "      <td>as5</td>\n",
       "      <td>s5</td>\n",
       "      <td>movie</td>\n",
       "      <td>monster maker</td>\n",
       "      <td>giles foster</td>\n",
       "      <td>harry dean stanton, kieran o'brien, george cos...</td>\n",
       "      <td>united kingdom</td>\n",
       "      <td>2021-03-30</td>\n",
       "      <td>1989</td>\n",
       "      <td>g</td>\n",
       "      <td>45 min</td>\n",
       "      <td>45 min</td>\n",
       "      <td>45 min</td>\n",
       "      <td>drama, fantasy</td>\n",
       "      <td>teenage matt banting wants to work with a famo...</td>\n",
       "      <td>75</td>\n",
       "    </tr>\n",
       "  </tbody>\n",
       "</table>\n",
       "</div>"
      ],
      "text/plain": [
       "    id show_id   type                 title        director  \\\n",
       "0  as1      s1  movie   the grand seduction    don mckellar   \n",
       "1  as2      s2  movie  take care good night    girish joshi   \n",
       "2  as3      s3  movie  secrets of deception     josh webber   \n",
       "3  as4      s4  movie    pink: staying true  sonia anderson   \n",
       "4  as5      s5  movie         monster maker    giles foster   \n",
       "\n",
       "                                                cast         country  \\\n",
       "0     brendan gleeson, taylor kitsch, gordon pinsent          canada   \n",
       "1   mahesh manjrekar, abhay mahajan, sachin khedekar           india   \n",
       "2  tom sizemore, lorenzo lamas, robert lasardo, r...   united states   \n",
       "3  interviews with: pink, adele, beyoncé, britney...   united states   \n",
       "4  harry dean stanton, kieran o'brien, george cos...  united kingdom   \n",
       "\n",
       "  date_added  release_year rating duration duration_int duration_type  \\\n",
       "0 2021-03-30          2014      g  113 min      113 min       113 min   \n",
       "1 2021-03-30          2018    13+  110 min      110 min       110 min   \n",
       "2 2021-03-30          2017      g   74 min       74 min        74 min   \n",
       "3 2021-03-30          2014      g   69 min       69 min        69 min   \n",
       "4 2021-03-30          1989      g   45 min       45 min        45 min   \n",
       "\n",
       "                 listed_in                                        description  \\\n",
       "0            comedy, drama  a small fishing village must procure a local d...   \n",
       "1     drama, international  a metro family decides to fight a cyber crimin...   \n",
       "2  action, drama, suspense  after a man discovers his wife is cheating on ...   \n",
       "3              documentary  pink breaks the mold once again, bringing her ...   \n",
       "4           drama, fantasy  teenage matt banting wants to work with a famo...   \n",
       "\n",
       "   score  \n",
       "0     99  \n",
       "1     37  \n",
       "2     20  \n",
       "3     27  \n",
       "4     75  "
      ]
     },
     "execution_count": 37,
     "metadata": {},
     "output_type": "execute_result"
    }
   ],
   "source": [
    "dfa.head()"
   ]
  },
  {
   "cell_type": "code",
   "execution_count": 38,
   "id": "3f4aeb93",
   "metadata": {},
   "outputs": [
    {
     "data": {
      "text/plain": [
       "1 season      1342\n",
       "2 seasons      229\n",
       "90 min         223\n",
       "91 min         220\n",
       "92 min         203\n",
       "              ... \n",
       "21 seasons       1\n",
       "485 min          1\n",
       "550 min          1\n",
       "181 min          1\n",
       "191 min          1\n",
       "Name: duration, Length: 219, dtype: int64"
      ]
     },
     "execution_count": 38,
     "metadata": {},
     "output_type": "execute_result"
    }
   ],
   "source": [
    "dfa.duration.value_counts()"
   ]
  },
  {
   "cell_type": "markdown",
   "id": "914dba25",
   "metadata": {},
   "source": [
    "En segundo lugar, para los data frames de Amazon y Disney, en el campo duration_int separamos los datos con la función `split` de Python, como se describe abajo. Mientras que para los data frames de Hulu y Nextflix debimos utilizar la función ` get_int_value()` para diferenciar strings de valores nulos y poder trabajar con estas sin complicaciones."
   ]
  },
  {
   "cell_type": "code",
   "execution_count": 39,
   "id": "d98ae3cb",
   "metadata": {},
   "outputs": [],
   "source": [
    "# La función anónima itera sobre cada valor de la columna duration_int, separa la cadena y selecciona la primera slice\n",
    "# y finalmente castea al tipo de dato solicitado, un int.\n",
    "dfa.duration_int = dfa.duration_int.apply(lambda x: int(x.split(' ')[0]))\n",
    "dfd.duration_int = dfd.duration_int.apply(lambda x: int(x.split(' ')[0]))\n",
    "#dfh.duration_int = dfh.duration_int.apply(lambda x: int(x.split(' ')[0]))\n",
    "#dfn.duration_int = dfn.duration_int.apply(lambda x: int(x.split(' ')[0]))"
   ]
  },
  {
   "cell_type": "code",
   "execution_count": 40,
   "id": "6d0cc948",
   "metadata": {},
   "outputs": [],
   "source": [
    "# def to_lower_case(cellValue):\n",
    "#     if type(cellValue) == str:\n",
    "#         value = cellValue.lower()\n",
    "#         return value\n",
    "#     else:\n",
    "#         return cellValue"
   ]
  },
  {
   "cell_type": "code",
   "execution_count": 41,
   "id": "c0eafe07",
   "metadata": {},
   "outputs": [],
   "source": [
    "def get_int_value(cellValue): \n",
    "    if type(cellValue) == str:\n",
    "        value = cellValue.split(' ')[0]\n",
    "        return int(value)\n",
    "    else:\n",
    "        return np.nan"
   ]
  },
  {
   "cell_type": "code",
   "execution_count": 42,
   "id": "a531fabf",
   "metadata": {},
   "outputs": [],
   "source": [
    "dfh.duration_int = dfh.duration.apply(lambda x: get_int_value(x))"
   ]
  },
  {
   "cell_type": "code",
   "execution_count": 43,
   "id": "9ed22801",
   "metadata": {},
   "outputs": [],
   "source": [
    "dfn.duration_int = dfn.duration.apply(lambda x: get_int_value(x))"
   ]
  },
  {
   "cell_type": "markdown",
   "id": "e5212ae1",
   "metadata": {},
   "source": [
    "Otro paso adicional que debimos realizar con los dataframes de Hulu y Netflix fue convertir el tipo de datos a int. Para optimizar el uso la memoria, Pandas coerciona el tipo de dato int a float cuando se intenta volcar valores nan y enteros en un mismo campo y al mismo tiempo. Por esta razón tuvimos que expicitar el tipo de dato que necesitábamos dentro de la serie."
   ]
  },
  {
   "cell_type": "code",
   "execution_count": 44,
   "id": "6c5c1a73",
   "metadata": {},
   "outputs": [],
   "source": [
    "dfh.duration_int = pd.Series(dfh.duration_int, dtype=pd.Int32Dtype())"
   ]
  },
  {
   "cell_type": "code",
   "execution_count": 45,
   "id": "961ac90c",
   "metadata": {},
   "outputs": [],
   "source": [
    "dfn.duration_int = pd.Series(dfn.duration_int, dtype=pd.Int32Dtype())"
   ]
  },
  {
   "cell_type": "markdown",
   "id": "2205635d",
   "metadata": {},
   "source": [
    "En tercer lugar, separamos los datos de la columna duration_type para quedarnos con la substring que contiene el tipo de duración de los shows (min, season). Todo este proceso es análogo al utilizado en la columna duration_int.\n",
    "Aquí también tuvimos que prodecer de manera diferentes entre los data frames de Amazon y Disney, por un lado y Hulu y Netflix por el otro."
   ]
  },
  {
   "cell_type": "code",
   "execution_count": 46,
   "id": "b985b4a0",
   "metadata": {},
   "outputs": [],
   "source": [
    "# Esta función es muy similar a la anterior, pero no necesita convertir el tipo de dato y toma la segunda slice de la string \n",
    "# original\n",
    "dfa.duration_type = dfa.duration_type.apply(lambda x: x.split(' ')[1])\n",
    "dfd.duration_type = dfd.duration_type.apply(lambda x: x.split(' ')[1])\n",
    "#dfh.duration_type = dfh.duration_type.apply(lambda x: x.split(' ')[1])\n",
    "#dfn.duration_type = dfn.duration_type.apply(lambda x: x.split(' ')[1])"
   ]
  },
  {
   "cell_type": "code",
   "execution_count": 47,
   "id": "53115f71",
   "metadata": {},
   "outputs": [],
   "source": [
    "def get_text_slice_value(cellValue):\n",
    "    if type(cellValue) == str:\n",
    "        value = cellValue.split(' ')[1]\n",
    "        return value\n",
    "    else:\n",
    "        return cellValue"
   ]
  },
  {
   "cell_type": "code",
   "execution_count": 48,
   "id": "79a0aec4",
   "metadata": {},
   "outputs": [],
   "source": [
    "dfh.duration_type= dfh.duration_type.apply(lambda x: get_text_slice_value(x))"
   ]
  },
  {
   "cell_type": "code",
   "execution_count": 49,
   "id": "37d1535e",
   "metadata": {},
   "outputs": [],
   "source": [
    "dfn.duration_type = dfn.duration_type.apply(lambda x: get_text_slice_value(x))"
   ]
  },
  {
   "cell_type": "markdown",
   "id": "3edcdf47",
   "metadata": {},
   "source": [
    "En cuarto y último lugar normalizamos el tipo de duración, al llevar el valor 'seasons' a 'season'."
   ]
  },
  {
   "cell_type": "code",
   "execution_count": 50,
   "id": "941206bb",
   "metadata": {},
   "outputs": [],
   "source": [
    "def replace_plural(cellValue):\n",
    "    if type(cellValue) == str:\n",
    "        if cellValue[-1] == 's':\n",
    "            cellValue =  cellValue[:-1]   \n",
    "            \n",
    "    return cellValue"
   ]
  },
  {
   "cell_type": "code",
   "execution_count": 51,
   "id": "f2c4e4fe",
   "metadata": {},
   "outputs": [],
   "source": [
    "dfa.duration_type = dfa.duration_type.apply(replace_plural)"
   ]
  },
  {
   "cell_type": "code",
   "execution_count": 52,
   "id": "e409cc87",
   "metadata": {},
   "outputs": [],
   "source": [
    "dfd.duration_type = dfd.duration_type.apply(replace_plural)"
   ]
  },
  {
   "cell_type": "code",
   "execution_count": 53,
   "id": "835cf7b3",
   "metadata": {},
   "outputs": [],
   "source": [
    "dfh.duration_type = dfh.duration_type.apply(replace_plural)"
   ]
  },
  {
   "cell_type": "code",
   "execution_count": 54,
   "id": "5461b7eb",
   "metadata": {},
   "outputs": [],
   "source": [
    "dfn.duration_type = dfn.duration_type.apply(replace_plural)"
   ]
  },
  {
   "cell_type": "code",
   "execution_count": 55,
   "id": "8bd43c4b",
   "metadata": {},
   "outputs": [],
   "source": [
    "#dfn.duration_type.value_counts()"
   ]
  },
  {
   "cell_type": "code",
   "execution_count": 56,
   "id": "19c10010",
   "metadata": {},
   "outputs": [],
   "source": [
    "#dfa"
   ]
  },
  {
   "cell_type": "code",
   "execution_count": 57,
   "id": "80c18a40",
   "metadata": {},
   "outputs": [],
   "source": [
    "#dfd"
   ]
  },
  {
   "cell_type": "code",
   "execution_count": 58,
   "id": "db12b1be",
   "metadata": {},
   "outputs": [],
   "source": [
    "#dfh"
   ]
  },
  {
   "cell_type": "code",
   "execution_count": 59,
   "id": "061c0737",
   "metadata": {},
   "outputs": [],
   "source": [
    "#dfn"
   ]
  },
  {
   "cell_type": "markdown",
   "id": "f49dbb8d",
   "metadata": {},
   "source": [
    "## Guardar los datos"
   ]
  },
  {
   "cell_type": "code",
   "execution_count": 60,
   "id": "be0a2a8a",
   "metadata": {},
   "outputs": [],
   "source": [
    "dfa.to_csv('..\\\\Amazon.csv', index = False)"
   ]
  },
  {
   "cell_type": "code",
   "execution_count": 61,
   "id": "fc5618c1",
   "metadata": {},
   "outputs": [],
   "source": [
    "dfd.to_csv('..\\\\Disney.csv', index = False)"
   ]
  },
  {
   "cell_type": "code",
   "execution_count": 62,
   "id": "dcdca7f0",
   "metadata": {},
   "outputs": [],
   "source": [
    "dfh.to_csv('..\\\\Hulu.csv', index = False)"
   ]
  },
  {
   "cell_type": "code",
   "execution_count": 63,
   "id": "089b95d8",
   "metadata": {},
   "outputs": [],
   "source": [
    "dfn.to_csv('..\\\\Netflix.csv', index = False)"
   ]
  },
  {
   "cell_type": "code",
   "execution_count": null,
   "id": "542480e3-f210-44c2-873d-643c48d1cd68",
   "metadata": {},
   "outputs": [],
   "source": []
  }
 ],
 "metadata": {
  "kernelspec": {
   "display_name": "Python 3 (ipykernel)",
   "language": "python",
   "name": "python3"
  },
  "language_info": {
   "codemirror_mode": {
    "name": "ipython",
    "version": 3
   },
   "file_extension": ".py",
   "mimetype": "text/x-python",
   "name": "python",
   "nbconvert_exporter": "python",
   "pygments_lexer": "ipython3",
   "version": "3.9.12"
  }
 },
 "nbformat": 4,
 "nbformat_minor": 5
}
